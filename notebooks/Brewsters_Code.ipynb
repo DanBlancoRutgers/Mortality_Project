{
 "cells": [
  {
   "cell_type": "code",
   "execution_count": 1,
   "metadata": {},
   "outputs": [],
   "source": [
    "#import netCDF4 as nc\n",
    "import pandas as pd\n",
    "from matplotlib import pyplot as plt\n",
    "import xarray as xr\n",
    "import numpy as np\n",
    "import scipy\n",
    "import plotly.express as px\n",
    "from scipy.stats import mstats\n",
    "from plotly.subplots import make_subplots\n",
    "import plotly.graph_objects as go\n",
    "import math\n",
    "import csv\n",
    "import fiona\n",
    "import geopandas\n",
    "#pd.set_option('display.max_rows', 200)"
   ]
  },
  {
   "cell_type": "code",
   "execution_count": 2,
   "metadata": {},
   "outputs": [],
   "source": [
    "#loading in mortality dataset from hierarchy file (available on Zenodo)\n",
    "#fn is the full aggregated dataset\n",
    "fn = \"/projects/kopp/dtb96/Mortality_Project/data/2_projection/3_impacts/main_specification/raw/single/rcp85/CCSM4/low/SSP3/Agespec_interaction_GMFD_POLY-4_TINV_CYA_NW_w1-oldest-noadapt.nc4\"\n",
    "\n",
    "#fn1 is the HistClim dataset\n",
    "fn1 = \"/projects/kopp/dtb96/Mortality_Project/data/2_projection/3_impacts/main_specification/raw/single/rcp85/CCSM4/low/SSP3/Agespec_interaction_GMFD_POLY-4_TINV_CYA_NW_w1-oldest-histclim.nc4\""
   ]
  },
  {
   "cell_type": "code",
   "execution_count": 3,
   "metadata": {},
   "outputs": [
    {
     "name": "stdout",
     "output_type": "stream",
     "text": [
      "    gadmid           hierid  color  ISO geometry\n",
      "0  28115.0       CAN.1.2.28    1.0  CAN     None\n",
      "1  28116.0     CAN.1.17.403    2.0  CAN     None\n",
      "2  28119.0     CAN.2.34.951    3.0  CAN     None\n",
      "3  28120.0  CAN.11.259.4274    4.0  CAN     None\n",
      "4  28124.0  CAN.11.269.4448    5.0  CAN     None\n"
     ]
    }
   ],
   "source": [
    "#loading in shapefile associated with hierarchy file\n",
    "shapefile = \"/projects/kopp/dtb96/Mortality_Project/impact-regions-highres-full\"\n",
    "\n",
    "sf = geopandas.read_file(shapefile)\n",
    "print(sf.head())"
   ]
  },
  {
   "cell_type": "code",
   "execution_count": null,
   "metadata": {},
   "outputs": [],
   "source": [
    "def fix_region(ds):\n",
    "    \"\"\"Clean raw mortality Datasets so region is helpful.\n",
    "\n",
    "    Changes coords/dims/vars so 'region' is region names we can select data by.\n",
    "    For e.g. `ds.sel(region='IND.10.121')` should work properly.\n",
    "    \"\"\"\n",
    "    return ds.set_coords(\"regions\").swap_dims({\"region\": \"regions\"}).rename({\"regions\": \"region\"})\n",
    "\n",
    "\n",
    "ds = fix_region(xr.open_dataset(fn))\n",
    "ds1 = fix_region(xr.open_dataset(fn1))\n",
    "ds"
   ]
  },
  {
   "cell_type": "code",
   "execution_count": null,
   "metadata": {},
   "outputs": [],
   "source": [
    "\n",
    "#isolating individual regions to analyze\n",
    "DEL = ds.sel(region=\"IND.10.121\")   \n",
    "OSL = ds.sel(region='NOR.12')\n",
    "CHI = ds.sel(region='USA.14')        #listed as 'Cook' county\n",
    "SPB = ds.sel(region='BRA')        #double check aggregated version, unaggreagted version not listed as sao paulo\n",
    "ACC = ds.sel(region='GHA.5')\n",
    "SYD = ds.sel(region='AUS.4')         #unaggreageted version split into \n",
    "BEI = ds.sel(region='CHN.2')        #double check aggregated version, unaggregated version only has Miyun district\n",
    "\n",
    "#isolating the regions again for the difference calculation down the road\n",
    "DEL = ds1.sel(region='IND.10.121')   \n",
    "OSL = ds1.sel(region='NOR.12')\n",
    "CHI = ds1.sel(region='USA.14')        #listed as 'Cook' county\n",
    "SPB = ds1.sel(region='BRA')        #double check aggregated version, unaggreagted version not listed as sao paulo\n",
    "ACC = ds1.sel(region='GHA.5')\n",
    "SYD = ds1.sel(region='AUS.4')         #unaggreageted version split into \n",
    "BEI = ds1.sel(region='CHN.2')"
   ]
  },
  {
   "cell_type": "code",
   "execution_count": null,
   "metadata": {},
   "outputs": [],
   "source": [
    "q = (0.17, 0.5, 0.83)\n",
    "window_n = 30\n",
    "rebased_qs = ds[\"rebased\"].rolling({\"year\": window_n}, center=False).construct(\"tmp\").quantile(q,skipna= False, dim=\"tmp\")\n",
    "rebased_qs1 = ds1[\"rebased\"].rolling({\"year\": window_n}, center=False).construct(\"tmp\").quantile(q,skipna= False, dim=\"tmp\")"
   ]
  },
  {
   "cell_type": "code",
   "execution_count": null,
   "metadata": {},
   "outputs": [],
   "source": [
    "##can use rebased_qs.sel(quantile=0.5, region=\"IND.10.121\") to grab something\n",
    "rebased_qs.stack(z=[\"region\", \"quantile\"]).to_pandas()\n",
    "#rebased_qs.sel(region=\"IND.10.121\", quantile =0.17)"
   ]
  },
  {
   "cell_type": "code",
   "execution_count": null,
   "metadata": {},
   "outputs": [],
   "source": [
    "rebased_qs.sel(region=\"BWA.7\").plot.line(x=\"year\")"
   ]
  },
  {
   "cell_type": "code",
   "execution_count": null,
   "metadata": {},
   "outputs": [],
   "source": [
    "##original code from Brewster\n",
    "##threshold = rebased_qs.sel(quantile=0.17, year=window).max(dim=\"year\")\n",
    "##mask_years_over_threshold = rebased_qs.sel(quantile=0.83, year=window) <= threshold\n",
    "##earliest_threshold_year = mask_years_over_threshold.idxmax(dim=\"year\")"
   ]
  },
  {
   "cell_type": "code",
   "execution_count": null,
   "metadata": {},
   "outputs": [],
   "source": [
    "window = slice(2010, 2100)\n",
    "\n",
    "threshold = rebased_qs.sel(quantile=0.17, year=2010)\n",
    "mask_years_over_threshold = rebased_qs.sel(quantile=0.83, year=window) <= threshold\n",
    "earliest_threshold_year = mask_years_over_threshold.idxmax(dim=\"year\")\n",
    "array1 = earliest_threshold_year['region'].values\n",
    "array2 = earliest_threshold_year.values\n"
   ]
  },
  {
   "cell_type": "markdown",
   "metadata": {},
   "source": [
    "---\n",
    "# 230922 pk"
   ]
  },
  {
   "cell_type": "code",
   "execution_count": null,
   "metadata": {},
   "outputs": [],
   "source": [
    "def fun_threshold(quant,yr):\n",
    "    threshold = rebased_qs.sel(quantile=quant, year=yr)\n",
    "    return threshold"
   ]
  },
  {
   "cell_type": "code",
   "execution_count": null,
   "metadata": {},
   "outputs": [],
   "source": [
    "mask_years_over_threshold1 = fun_threshold(0.83, window) <= fun_threshold(0.17, 2100)\n",
    "earliest_threshold_year1 = mask_years_over_threshold1.idxmax(dim=\"year\")"
   ]
  },
  {
   "cell_type": "code",
   "execution_count": null,
   "metadata": {},
   "outputs": [],
   "source": [
    "mask_years_over_threshold2 = fun_threshold(0.17, window) <= fun_threshold(0.83, 2100)\n",
    "earliest_threshold_year2 = mask_years_over_threshold2.idxmax(dim=\"year\")"
   ]
  },
  {
   "cell_type": "markdown",
   "metadata": {},
   "source": [
    "---\n",
    "# ^^^pk"
   ]
  },
  {
   "cell_type": "code",
   "execution_count": null,
   "metadata": {},
   "outputs": [],
   "source": [
    "if:\n",
    "    threshold(q=0.17,year=2000) -- first qunatile value\n",
    "    mask_years_over_threshold = rebased_qs.sel(quantile=0.83, year=window) <= threshold -\n",
    "    ##says if first 0.17 percntile becomes greater than 0.83 percentile at some year Y, damages occur (mortality increasin)\n",
    "    ##opposite true of first 0.83 crosses 0.17 - benefits occur\n",
    "    ##in some regions neither benefits nor damages emerge \n",
    "    #threshold 1 will find what year the 2010 0.17 percentile crosses 0.83\n",
    "    #threshold 2 will find what year 2010 0.83 percnetile cross 0.17\n",
    "    "
   ]
  },
  {
   "cell_type": "code",
   "execution_count": null,
   "metadata": {},
   "outputs": [],
   "source": [
    "array1.shape"
   ]
  },
  {
   "cell_type": "code",
   "execution_count": null,
   "metadata": {},
   "outputs": [],
   "source": [
    "threshold2 = rebased_qs.sel(quantile=0.83, year=2010)\n",
    "mask_years_over_threshold2 = rebased_qs.sel(quantile=0.17, year=window) <= threshold2\n",
    "earliest_threshold_year2 = mask_years_over_threshold2.idxmax(dim=\"year\")"
   ]
  },
  {
   "cell_type": "code",
   "execution_count": null,
   "metadata": {},
   "outputs": [],
   "source": [
    "rebased_qs.sel(quantile[0=0.17, year=2010)"
   ]
  },
  {
   "cell_type": "code",
   "execution_count": null,
   "metadata": {},
   "outputs": [],
   "source": [
    "sf['TOE_benefits'] = earliest_threshold_year\n",
    "sf['TOE_damages'] = earliest_threshold_year2"
   ]
  },
  {
   "cell_type": "code",
   "execution_count": null,
   "metadata": {},
   "outputs": [],
   "source": [
    "# Plot the GeoDataFrame\n",
    "fig, ax = plt.subplots(figsize=(10, 10))\n",
    "sf.plot(column=\"TOE_damages\",ax=ax,legend=True)"
   ]
  },
  {
   "cell_type": "code",
   "execution_count": null,
   "metadata": {},
   "outputs": [],
   "source": [
    "# Plot the GeoDataFrame\n",
    "fig, ax = plt.subplots(figsize=(10, 10))\n",
    "sf.plot(column=\"TOE_benefits\",ax=ax,legend=True)"
   ]
  },
  {
   "cell_type": "code",
   "execution_count": null,
   "metadata": {},
   "outputs": [],
   "source": []
  }
 ],
 "metadata": {
  "kernelspec": {
   "display_name": "myenv1",
   "language": "python",
   "name": "myenv1"
  },
  "language_info": {
   "codemirror_mode": {
    "name": "ipython",
    "version": 3
   },
   "file_extension": ".py",
   "mimetype": "text/x-python",
   "name": "python",
   "nbconvert_exporter": "python",
   "pygments_lexer": "ipython3",
   "version": "3.9.18"
  }
 },
 "nbformat": 4,
 "nbformat_minor": 5
}
