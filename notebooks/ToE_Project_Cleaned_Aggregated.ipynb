{
 "cells": [
  {
   "cell_type": "code",
   "execution_count": 1,
   "id": "108ce451-f7e0-4040-8138-8e5a6716276a",
   "metadata": {},
   "outputs": [],
   "source": [
    "import netCDF4 as nc\n",
    "import pandas as pd\n",
    "from matplotlib import pyplot as plt\n",
    "import xarray as xr\n",
    "import numpy as np\n",
    "import scipy\n",
    "import plotly.express as px\n",
    "from scipy.stats import mstats\n",
    "from plotly.subplots import make_subplots\n",
    "import plotly.graph_objects as go\n",
    "import math\n",
    "import csv\n",
    "import fiona\n",
    "import geopandas\n",
    "pd.set_option('display.max_rows', 24000)"
   ]
  },
  {
   "cell_type": "code",
   "execution_count": 2,
   "id": "4ee00a3f-06c9-48a0-b9df-0d317b04ba26",
   "metadata": {},
   "outputs": [],
   "source": [
    "#loading in mortality dataset from hierarchy file (available on Zenodo)\n",
    "#fn_full_agg is the aggregated dataset with full adaptation\n",
    "fn_full_agg = \"/projects/kopp/dtb96/branches/Mortality_Project/data/2_projection/3_impacts/main_specification/raw/single/rcp85/CCSM4/low/SSP3/Agespec_interaction_GMFD_POLY-4_TINV_CYA_NW_w1-oldest-aggregated.nc4\"\n",
    "\n",
    "#fn_inc is the aggregated dataset with income adaptation only\n",
    "fn_inc_agg = \"/projects/kopp/dtb96/branches/Mortality_Project/data/2_projection/3_impacts/main_specification/raw/single/rcp85/CCSM4/low/SSP3/Agespec_interaction_GMFD_POLY-4_TINV_CYA_NW_w1-oldest-incadapt-aggregated.nc4\"\n",
    "\n",
    "#fn_none is the aggregated dataset with no adaptation, only temperature change\n",
    "\n",
    "fn_none_agg = \"/projects/kopp/dtb96/branches/Mortality_Project/data/2_projection/3_impacts/main_specification/raw/single/rcp85/CCSM4/low/SSP3/Agespec_interaction_GMFD_POLY-4_TINV_CYA_NW_w1-oldest-noadapt-aggregated.nc4\"\n",
    "\n",
    "#fn_histclim_agg is the aggregated HistClim dataset\n",
    "fn_histclim_agg = \"/projects/kopp/dtb96/branches/Mortality_Project/data/2_projection/3_impacts/main_specification/raw/single/rcp85/CCSM4/low/SSP3/Agespec_interaction_GMFD_POLY-4_TINV_CYA_NW_w1-oldest-histclim-aggregated.nc4\"\n"
   ]
  },
  {
   "cell_type": "code",
   "execution_count": 3,
   "id": "242d115f-5844-4d32-9bc2-015fe72cb243",
   "metadata": {},
   "outputs": [],
   "source": [
    "#loading in shapefile associated with hierarchy file\n",
    "#shapefile_5k is the aggregated dataset binned by 5,678 regions\n",
    "shapefile_5k = \"/projects/kopp/dtb96/branches/Mortality_Project/data/impact_high_res\"\n",
    "\n",
    "#shapefile_24k is the full resolution dataset binned by 24,378 regions\n",
    "shapefile_24k = \"/projects/kopp/dtb96/branches/Mortality_Project/data/new_shapefile_nytimes\"\n",
    "\n",
    "#reading in the shapefiles with geopandas\n",
    "sf_5k = geopandas.read_file(shapefile_5k)\n",
    "sf_24k = geopandas.read_file(shapefile_24k)\n"
   ]
  },
  {
   "cell_type": "code",
   "execution_count": 4,
   "id": "00338e63-df85-43f1-a27b-241b8f34e9f6",
   "metadata": {},
   "outputs": [
    {
     "name": "stdout",
     "output_type": "stream",
     "text": [
      "        gadmid           hierid    color  ISO  \\\n",
      "0      28115.0       CAN.1.2.28      1.0  CAN   \n",
      "1      28116.0     CAN.1.17.403      2.0  CAN   \n",
      "2      28119.0     CAN.2.34.951      3.0  CAN   \n",
      "3      28120.0  CAN.11.259.4274      4.0  CAN   \n",
      "4      28124.0  CAN.11.269.4448      5.0  CAN   \n",
      "...        ...              ...      ...  ...   \n",
      "24373   6905.0            BWA.1  24374.0  BWA   \n",
      "24374   6902.0            BWA.7  24375.0  BWA   \n",
      "24375   6915.0         BWA.6.16  24376.0  BWA   \n",
      "24376   6909.0            BWA.5  24377.0  BWA   \n",
      "24377   6912.0         BWA.4.13  24378.0  BWA   \n",
      "\n",
      "                                                geometry  \n",
      "0      MULTIPOLYGON (((-110.05459 53.30730, -110.0911...  \n",
      "1      POLYGON ((-111.23055 52.91943, -111.23056 52.9...  \n",
      "2      POLYGON ((-127.68527 55.29570, -127.68806 55.2...  \n",
      "3      POLYGON ((-77.73080 55.31879, -77.72983 55.318...  \n",
      "4      POLYGON ((-66.25940 54.99975, -66.24916 54.999...  \n",
      "...                                                  ...  \n",
      "24373  POLYGON ((26.95521 -23.74904, 26.94750 -23.752...  \n",
      "24374  POLYGON ((22.50413 -18.11382, 22.98841 -18.018...  \n",
      "24375  POLYGON ((27.28497 -20.49781, 27.29554 -20.500...  \n",
      "24376  POLYGON ((23.05667 -23.31139, 23.07195 -23.311...  \n",
      "24377  POLYGON ((26.95521 -23.74904, 26.96656 -23.749...  \n",
      "\n",
      "[24378 rows x 5 columns]\n"
     ]
    }
   ],
   "source": [
    "print(sf_5k)"
   ]
  },
  {
   "cell_type": "code",
   "execution_count": 54,
   "id": "0c4f1bf7-c2c6-48be-8974-19ad7fc67d9b",
   "metadata": {},
   "outputs": [],
   "source": [
    "#Cleaning raw mortality Datasets so region dimension is helpful. Thanks Brewster!\n",
    "def fix_region(ds):\n",
    "    \n",
    "\n",
    "    #Changes coords/dims/vars so 'region' is region names we can select data by.\n",
    "    #For e.g. `ds.sel(region='IND.10.121')` should work properly.\n",
    "  \n",
    "    return ds.set_coords(\"regions\").swap_dims({\"region\": \"regions\"}).rename({\"regions\": \"region\"})\n",
    "\n",
    "\n",
    "ds_full_agg = fix_region(xr.open_dataset(fn_full_agg))\n",
    "ds_inc_agg = fix_region(xr.open_dataset(fn_inc_agg))\n",
    "ds_none_agg = fix_region(xr.open_dataset(fn_none_agg))\n",
    "ds_histclim_agg = fix_region(xr.open_dataset(fn_histclim_agg))"
   ]
  },
  {
   "cell_type": "code",
   "execution_count": 55,
   "id": "ced60f51-41b9-47a7-91a8-173b9122e587",
   "metadata": {},
   "outputs": [],
   "source": [
    "#taking the 20yr rolling quantile values from the 'rebased' dataset\n",
    "q = (0.17, 0.5, 0.83)\n",
    "window_n = 20\n",
    "rebased_qs_full_agg = ds_full_agg[\"rebased\"].rolling({\"year\": window_n}, center=False).construct(\"tmp\").quantile(q,skipna= False, dim=\"tmp\")\n",
    "rebased_qs_inc_agg = ds_inc_agg[\"rebased\"].rolling({\"year\": window_n}, center=False).construct(\"tmp\").quantile(q,skipna= False, dim=\"tmp\")\n",
    "rebased_qs_none_agg = ds_none_agg[\"rebased\"].rolling({\"year\": window_n}, center=False).construct(\"tmp\").quantile(q,skipna= False, dim=\"tmp\")\n",
    "rebased_qs_histclim_agg = ds_histclim_agg[\"rebased\"].rolling({\"year\": window_n}, center=False).construct(\"tmp\").quantile(q,skipna= False, dim=\"tmp\")\n",
    "\n"
   ]
  },
  {
   "cell_type": "code",
   "execution_count": 56,
   "id": "7f8a1bd7-7695-402a-a923-5986bd95f8e6",
   "metadata": {},
   "outputs": [],
   "source": [
    "#finding where 83rd %-tile crosses the 17th %-tile, or vice versa\n",
    "window = slice(2010,2100)\n",
    "\n",
    "def fun_threshold_full_agg(quant,yr):\n",
    "    threshold_full_agg = rebased_qs_full_agg.sel(quantile=quant, year=yr)\n",
    "    return threshold_full_agg\n",
    "\n",
    "def fun_threshold_inc_agg(quant,yr):\n",
    "    threshold_inc_agg = rebased_qs_inc_agg.sel(quantile=quant, year=yr)\n",
    "    return threshold_inc_agg\n",
    "\n",
    "def fun_threshold_none_agg(quant,yr):\n",
    "    threshold_none_agg = rebased_qs_none_agg.sel(quantile=quant, year=yr)\n",
    "    return threshold_none_agg\n",
    "\n",
    "def fun_threshold_histclim_agg(quant,yr):\n",
    "    threshold_histclim_agg = rebased_qs_histclim_agg.sel(quantile=quant, year=yr)\n",
    "    return threshold_histclim_agg"
   ]
  },
  {
   "cell_type": "code",
   "execution_count": 57,
   "id": "8a7a057f-8d29-4fe2-b700-08973a439f17",
   "metadata": {},
   "outputs": [],
   "source": [
    "#damages earliest threshold crossing - this gives TOE for the aggregated datasets\n",
    "#for full adapt\n",
    "mask_years_over_threshold_damages_full_agg = fun_threshold_full_agg(0.83, 2010) <= fun_threshold_full_agg(0.17, window)\n",
    "earliest_threshold_year_damages_full_agg = mask_years_over_threshold_damages_full_agg.idxmax(dim=\"year\")\n",
    "\n",
    "#for income adapt\n",
    "mask_years_over_threshold_damages_inc_agg = fun_threshold_inc_agg(0.83, 2010) <= fun_threshold_inc_agg(0.17, window)\n",
    "earliest_threshold_year_damages_inc_agg = mask_years_over_threshold_damages_inc_agg.idxmax(dim=\"year\")\n",
    "\n",
    "#for no adapt\n",
    "mask_years_over_threshold_damages_none_agg = fun_threshold_none_agg(0.83, 2010) <= fun_threshold_none_agg(0.17, window)\n",
    "earliest_threshold_year_damages_none_agg = mask_years_over_threshold_damages_none_agg.idxmax(dim=\"year\")\n",
    "\n",
    "mask_years_over_threshold_damages_histclim_agg = fun_threshold_histclim_agg(0.83, 2010) <= fun_threshold_histclim_agg(0.17, window)\n",
    "earliest_threshold_year_damages_histclim_agg = mask_years_over_threshold_damages_histclim_agg.idxmax(dim=\"year\")\n",
    "\n",
    "\n"
   ]
  },
  {
   "cell_type": "code",
   "execution_count": 58,
   "id": "7b9c8edf-eb3e-44fb-87dd-3c4025625a52",
   "metadata": {},
   "outputs": [],
   "source": [
    "#benefits earliest threshold crossing - this gives TOE\n",
    "#for full adapt\n",
    "mask_years_over_threshold_benefits_full_agg = fun_threshold_full_agg(0.17, 2010) >= fun_threshold_full_agg(0.83, window)\n",
    "earliest_threshold_year_benefits_full_agg = mask_years_over_threshold_benefits_full_agg.idxmax(dim=\"year\")\n",
    "\n",
    "#for income adapt\n",
    "mask_years_over_threshold_benefits_inc_agg = fun_threshold_inc_agg(0.17, 2010) >= fun_threshold_inc_agg(0.83, window)\n",
    "earliest_threshold_year_benefits_inc_agg = mask_years_over_threshold_benefits_inc_agg.idxmax(dim=\"year\")\n",
    "\n",
    "#for no adapt\n",
    "mask_years_over_threshold_benefits_none = fun_threshold_none(0.17, 2010) >= fun_threshold_none(0.83, window)\n",
    "earliest_threshold_year_benefits_none = mask_years_over_threshold_benefits_none.idxmax(dim=\"year\")\n",
    "\n",
    "#for histclim\n",
    "mask_years_over_threshold_benefits_histclim = fun_threshold_histclim(0.17, 2010) >= fun_threshold_histclim(0.83, window)\n",
    "earliest_threshold_year_benefits_histclim = mask_years_over_threshold_benefits_histclim.idxmax(dim=\"year\")\n"
   ]
  },
  {
   "cell_type": "code",
   "execution_count": 59,
   "id": "9fee81a1-17fa-4ce7-8ddb-2a64f7719e78",
   "metadata": {},
   "outputs": [
    {
     "ename": "ValueError",
     "evalue": "Length of values (5678) does not match length of index (24378)",
     "output_type": "error",
     "traceback": [
      "\u001b[0;31m---------------------------------------------------------------------------\u001b[0m",
      "\u001b[0;31mValueError\u001b[0m                                Traceback (most recent call last)",
      "Cell \u001b[0;32mIn[59], line 3\u001b[0m\n\u001b[1;32m      1\u001b[0m \u001b[38;5;66;03m#adding TOE of benefits or damages to the shapefiles and removing NaN values\u001b[39;00m\n\u001b[1;32m      2\u001b[0m \u001b[38;5;66;03m#for full adapt\u001b[39;00m\n\u001b[0;32m----> 3\u001b[0m \u001b[43msf_5k\u001b[49m\u001b[43m[\u001b[49m\u001b[38;5;124;43m'\u001b[39;49m\u001b[38;5;124;43mTOE_benefits_full_agg\u001b[39;49m\u001b[38;5;124;43m'\u001b[39;49m\u001b[43m]\u001b[49m \u001b[38;5;241m=\u001b[39m earliest_threshold_year_benefits_full_agg\n\u001b[1;32m      4\u001b[0m sf_5k[\u001b[38;5;124m'\u001b[39m\u001b[38;5;124mTOE_damages_full_agg\u001b[39m\u001b[38;5;124m'\u001b[39m] \u001b[38;5;241m=\u001b[39m earliest_threshold_year_damages_full_agg\n\u001b[1;32m      5\u001b[0m sf_5k[\u001b[38;5;124m'\u001b[39m\u001b[38;5;124mTOE_benefits_full_agg\u001b[39m\u001b[38;5;124m'\u001b[39m] \u001b[38;5;241m=\u001b[39m sf_5k[\u001b[38;5;124m'\u001b[39m\u001b[38;5;124mTOE_benefits_full_agg\u001b[39m\u001b[38;5;124m'\u001b[39m]\u001b[38;5;241m.\u001b[39mreplace(\u001b[38;5;241m2010\u001b[39m,np\u001b[38;5;241m.\u001b[39mNaN)\n",
      "File \u001b[0;32m~/.conda/envs/myenv1/lib/python3.9/site-packages/geopandas/geodataframe.py:1543\u001b[0m, in \u001b[0;36mGeoDataFrame.__setitem__\u001b[0;34m(self, key, value)\u001b[0m\n\u001b[1;32m   1538\u001b[0m     \u001b[38;5;28;01mexcept\u001b[39;00m \u001b[38;5;167;01mTypeError\u001b[39;00m:\n\u001b[1;32m   1539\u001b[0m         warnings\u001b[38;5;241m.\u001b[39mwarn(\n\u001b[1;32m   1540\u001b[0m             \u001b[38;5;124m\"\u001b[39m\u001b[38;5;124mGeometry column does not contain geometry.\u001b[39m\u001b[38;5;124m\"\u001b[39m,\n\u001b[1;32m   1541\u001b[0m             stacklevel\u001b[38;5;241m=\u001b[39m\u001b[38;5;241m2\u001b[39m,\n\u001b[1;32m   1542\u001b[0m         )\n\u001b[0;32m-> 1543\u001b[0m \u001b[38;5;28;43msuper\u001b[39;49m\u001b[43m(\u001b[49m\u001b[43m)\u001b[49m\u001b[38;5;241;43m.\u001b[39;49m\u001b[38;5;21;43m__setitem__\u001b[39;49m\u001b[43m(\u001b[49m\u001b[43mkey\u001b[49m\u001b[43m,\u001b[49m\u001b[43m \u001b[49m\u001b[43mvalue\u001b[49m\u001b[43m)\u001b[49m\n",
      "File \u001b[0;32m~/.conda/envs/myenv1/lib/python3.9/site-packages/pandas/core/frame.py:4091\u001b[0m, in \u001b[0;36mDataFrame.__setitem__\u001b[0;34m(self, key, value)\u001b[0m\n\u001b[1;32m   4088\u001b[0m     \u001b[38;5;28mself\u001b[39m\u001b[38;5;241m.\u001b[39m_setitem_array([key], value)\n\u001b[1;32m   4089\u001b[0m \u001b[38;5;28;01melse\u001b[39;00m:\n\u001b[1;32m   4090\u001b[0m     \u001b[38;5;66;03m# set column\u001b[39;00m\n\u001b[0;32m-> 4091\u001b[0m     \u001b[38;5;28;43mself\u001b[39;49m\u001b[38;5;241;43m.\u001b[39;49m\u001b[43m_set_item\u001b[49m\u001b[43m(\u001b[49m\u001b[43mkey\u001b[49m\u001b[43m,\u001b[49m\u001b[43m \u001b[49m\u001b[43mvalue\u001b[49m\u001b[43m)\u001b[49m\n",
      "File \u001b[0;32m~/.conda/envs/myenv1/lib/python3.9/site-packages/pandas/core/frame.py:4300\u001b[0m, in \u001b[0;36mDataFrame._set_item\u001b[0;34m(self, key, value)\u001b[0m\n\u001b[1;32m   4290\u001b[0m \u001b[38;5;28;01mdef\u001b[39;00m \u001b[38;5;21m_set_item\u001b[39m(\u001b[38;5;28mself\u001b[39m, key, value) \u001b[38;5;241m-\u001b[39m\u001b[38;5;241m>\u001b[39m \u001b[38;5;28;01mNone\u001b[39;00m:\n\u001b[1;32m   4291\u001b[0m \u001b[38;5;250m    \u001b[39m\u001b[38;5;124;03m\"\"\"\u001b[39;00m\n\u001b[1;32m   4292\u001b[0m \u001b[38;5;124;03m    Add series to DataFrame in specified column.\u001b[39;00m\n\u001b[1;32m   4293\u001b[0m \n\u001b[0;32m   (...)\u001b[0m\n\u001b[1;32m   4298\u001b[0m \u001b[38;5;124;03m    ensure homogeneity.\u001b[39;00m\n\u001b[1;32m   4299\u001b[0m \u001b[38;5;124;03m    \"\"\"\u001b[39;00m\n\u001b[0;32m-> 4300\u001b[0m     value, refs \u001b[38;5;241m=\u001b[39m \u001b[38;5;28;43mself\u001b[39;49m\u001b[38;5;241;43m.\u001b[39;49m\u001b[43m_sanitize_column\u001b[49m\u001b[43m(\u001b[49m\u001b[43mvalue\u001b[49m\u001b[43m)\u001b[49m\n\u001b[1;32m   4302\u001b[0m     \u001b[38;5;28;01mif\u001b[39;00m (\n\u001b[1;32m   4303\u001b[0m         key \u001b[38;5;129;01min\u001b[39;00m \u001b[38;5;28mself\u001b[39m\u001b[38;5;241m.\u001b[39mcolumns\n\u001b[1;32m   4304\u001b[0m         \u001b[38;5;129;01mand\u001b[39;00m value\u001b[38;5;241m.\u001b[39mndim \u001b[38;5;241m==\u001b[39m \u001b[38;5;241m1\u001b[39m\n\u001b[1;32m   4305\u001b[0m         \u001b[38;5;129;01mand\u001b[39;00m \u001b[38;5;129;01mnot\u001b[39;00m \u001b[38;5;28misinstance\u001b[39m(value\u001b[38;5;241m.\u001b[39mdtype, ExtensionDtype)\n\u001b[1;32m   4306\u001b[0m     ):\n\u001b[1;32m   4307\u001b[0m         \u001b[38;5;66;03m# broadcast across multiple columns if necessary\u001b[39;00m\n\u001b[1;32m   4308\u001b[0m         \u001b[38;5;28;01mif\u001b[39;00m \u001b[38;5;129;01mnot\u001b[39;00m \u001b[38;5;28mself\u001b[39m\u001b[38;5;241m.\u001b[39mcolumns\u001b[38;5;241m.\u001b[39mis_unique \u001b[38;5;129;01mor\u001b[39;00m \u001b[38;5;28misinstance\u001b[39m(\u001b[38;5;28mself\u001b[39m\u001b[38;5;241m.\u001b[39mcolumns, MultiIndex):\n",
      "File \u001b[0;32m~/.conda/envs/myenv1/lib/python3.9/site-packages/pandas/core/frame.py:5039\u001b[0m, in \u001b[0;36mDataFrame._sanitize_column\u001b[0;34m(self, value)\u001b[0m\n\u001b[1;32m   5036\u001b[0m     \u001b[38;5;28;01mreturn\u001b[39;00m _reindex_for_setitem(value, \u001b[38;5;28mself\u001b[39m\u001b[38;5;241m.\u001b[39mindex)\n\u001b[1;32m   5038\u001b[0m \u001b[38;5;28;01mif\u001b[39;00m is_list_like(value):\n\u001b[0;32m-> 5039\u001b[0m     \u001b[43mcom\u001b[49m\u001b[38;5;241;43m.\u001b[39;49m\u001b[43mrequire_length_match\u001b[49m\u001b[43m(\u001b[49m\u001b[43mvalue\u001b[49m\u001b[43m,\u001b[49m\u001b[43m \u001b[49m\u001b[38;5;28;43mself\u001b[39;49m\u001b[38;5;241;43m.\u001b[39;49m\u001b[43mindex\u001b[49m\u001b[43m)\u001b[49m\n\u001b[1;32m   5040\u001b[0m \u001b[38;5;28;01mreturn\u001b[39;00m sanitize_array(value, \u001b[38;5;28mself\u001b[39m\u001b[38;5;241m.\u001b[39mindex, copy\u001b[38;5;241m=\u001b[39m\u001b[38;5;28;01mTrue\u001b[39;00m, allow_2d\u001b[38;5;241m=\u001b[39m\u001b[38;5;28;01mTrue\u001b[39;00m), \u001b[38;5;28;01mNone\u001b[39;00m\n",
      "File \u001b[0;32m~/.conda/envs/myenv1/lib/python3.9/site-packages/pandas/core/common.py:561\u001b[0m, in \u001b[0;36mrequire_length_match\u001b[0;34m(data, index)\u001b[0m\n\u001b[1;32m    557\u001b[0m \u001b[38;5;250m\u001b[39m\u001b[38;5;124;03m\"\"\"\u001b[39;00m\n\u001b[1;32m    558\u001b[0m \u001b[38;5;124;03mCheck the length of data matches the length of the index.\u001b[39;00m\n\u001b[1;32m    559\u001b[0m \u001b[38;5;124;03m\"\"\"\u001b[39;00m\n\u001b[1;32m    560\u001b[0m \u001b[38;5;28;01mif\u001b[39;00m \u001b[38;5;28mlen\u001b[39m(data) \u001b[38;5;241m!=\u001b[39m \u001b[38;5;28mlen\u001b[39m(index):\n\u001b[0;32m--> 561\u001b[0m     \u001b[38;5;28;01mraise\u001b[39;00m \u001b[38;5;167;01mValueError\u001b[39;00m(\n\u001b[1;32m    562\u001b[0m         \u001b[38;5;124m\"\u001b[39m\u001b[38;5;124mLength of values \u001b[39m\u001b[38;5;124m\"\u001b[39m\n\u001b[1;32m    563\u001b[0m         \u001b[38;5;124mf\u001b[39m\u001b[38;5;124m\"\u001b[39m\u001b[38;5;124m(\u001b[39m\u001b[38;5;132;01m{\u001b[39;00m\u001b[38;5;28mlen\u001b[39m(data)\u001b[38;5;132;01m}\u001b[39;00m\u001b[38;5;124m) \u001b[39m\u001b[38;5;124m\"\u001b[39m\n\u001b[1;32m    564\u001b[0m         \u001b[38;5;124m\"\u001b[39m\u001b[38;5;124mdoes not match length of index \u001b[39m\u001b[38;5;124m\"\u001b[39m\n\u001b[1;32m    565\u001b[0m         \u001b[38;5;124mf\u001b[39m\u001b[38;5;124m\"\u001b[39m\u001b[38;5;124m(\u001b[39m\u001b[38;5;132;01m{\u001b[39;00m\u001b[38;5;28mlen\u001b[39m(index)\u001b[38;5;132;01m}\u001b[39;00m\u001b[38;5;124m)\u001b[39m\u001b[38;5;124m\"\u001b[39m\n\u001b[1;32m    566\u001b[0m     )\n",
      "\u001b[0;31mValueError\u001b[0m: Length of values (5678) does not match length of index (24378)"
     ]
    }
   ],
   "source": [
    "#adding TOE of benefits or damages to the shapefiles and removing NaN values\n",
    "#for full adapt\n",
    "sf_5k['TOE_benefits_full_agg'] = earliest_threshold_year_benefits_full_agg\n",
    "sf_5k['TOE_damages_full_agg'] = earliest_threshold_year_damages_full_agg\n",
    "sf_5k['TOE_benefits_full_agg'] = sf_5k['TOE_benefits_full_agg'].replace(2010,np.NaN)\n",
    "sf_5k['TOE_damages_full_agg'] = sf_5k['TOE_damages_full_agg'].replace(2010,np.NaN)\n",
    "\n",
    "#for income adapt\n",
    "sf_5k['TOE_benefits_inc_agg'] = earliest_threshold_year_benefits_inc_agg\n",
    "sf_5k['TOE_damages_inc_agg'] = earliest_threshold_year_damages_inc_agg\n",
    "sf_5k['TOE_benefits_inc_agg'] = sf_24k['TOE_benefits_inc_agg'].replace(2010,np.NaN)\n",
    "sf_5k['TOE_damages_inc_agg'] = sf_5k['TOE_damages_inc_agg'].replace(2010,np.NaN)\n",
    "\n",
    "#for no adapt\n",
    "sf_5k['TOE_benefits_none_agg'] = earliest_threshold_year_benefits_none_agg\n",
    "sf_5k['TOE_damages_none_agg'] = earliest_threshold_year_damages_none_agg\n",
    "sf_5k['TOE_benefits_none_agg'] = sf_5k['TOE_benefits_none_agg'].replace(2010,np.NaN)\n",
    "sf_5k['TOE_damages_none_agg'] = sf_5k['TOE_damages_none_agg'].replace(2010,np.NaN)\n",
    "\n",
    "#for histclim\n",
    "sf_5k['TOE_benefits_histclim_agg'] = earliest_threshold_year_benefits_histclim_agg\n",
    "sf_5k['TOE_damages_histclim_agg'] = earliest_threshold_year_damages_histclim_agg\n",
    "sf_5k['TOE_benefits_histclim_agg'] = sf_5k['TOE_benefits_histclim_agg'].replace(2010,np.NaN)\n",
    "sf_5k['TOE_damages_histclim_agg'] = sf_5k['TOE_damages_histclim_agg'].replace(2010,np.NaN)\n"
   ]
  },
  {
   "cell_type": "code",
   "execution_count": null,
   "id": "773345ff-15d6-4ef8-b92f-67ffb76b93c3",
   "metadata": {},
   "outputs": [],
   "source": []
  }
 ],
 "metadata": {
  "kernelspec": {
   "display_name": "myenv1",
   "language": "python",
   "name": "myenv1"
  },
  "language_info": {
   "codemirror_mode": {
    "name": "ipython",
    "version": 3
   },
   "file_extension": ".py",
   "mimetype": "text/x-python",
   "name": "python",
   "nbconvert_exporter": "python",
   "pygments_lexer": "ipython3",
   "version": "3.9.18"
  }
 },
 "nbformat": 4,
 "nbformat_minor": 5
}
