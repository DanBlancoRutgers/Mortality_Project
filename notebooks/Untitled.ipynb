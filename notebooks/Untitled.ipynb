{
 "cells": [
  {
   "cell_type": "code",
   "execution_count": 1,
   "id": "05711b04-66d3-449d-928a-d5da45d6034e",
   "metadata": {},
   "outputs": [
    {
     "ename": "ModuleNotFoundError",
     "evalue": "No module named 'TOE'",
     "output_type": "error",
     "traceback": [
      "\u001b[0;31m---------------------------------------------------------------------------\u001b[0m",
      "\u001b[0;31mModuleNotFoundError\u001b[0m                       Traceback (most recent call last)",
      "Cell \u001b[0;32mIn[1], line 1\u001b[0m\n\u001b[0;32m----> 1\u001b[0m \u001b[38;5;28;01mfrom\u001b[39;00m \u001b[38;5;21;01mTOE\u001b[39;00m\u001b[38;5;21;01m.\u001b[39;00m\u001b[38;5;21;01mTOE\u001b[39;00m \u001b[38;5;28;01mimport\u001b[39;00m get_file_path, get_histclim_file_path, get_econ_file_path, fix_region, fix_region_histclim, threshold_fun, histclim_threshold_fun\n\u001b[1;32m      2\u001b[0m \u001b[38;5;28;01mimport\u001b[39;00m \u001b[38;5;21;01mxarray\u001b[39;00m \u001b[38;5;28;01mas\u001b[39;00m \u001b[38;5;21;01mxr\u001b[39;00m\n",
      "\u001b[0;31mModuleNotFoundError\u001b[0m: No module named 'TOE'"
     ]
    }
   ],
   "source": [
    "from TOE.TOE import get_file_path, get_histclim_file_path, get_econ_file_path, fix_region, fix_region_histclim, threshold_fun, histclim_threshold_fun\n",
    "import xarray as xr\n",
    "\n"
   ]
  },
  {
   "cell_type": "code",
   "execution_count": null,
   "id": "7e2f719a-0b3a-4442-adca-5bf7805e9169",
   "metadata": {},
   "outputs": [],
   "source": [
    "# Example usage\n",
    "dat_dir = '/projects/kopp/dtb96/branches/Mortality_Project/data/2_projection/3_impacts/main_specification/raw/single'\n",
    "rcp = '45'\n",
    "iam = 'low'\n",
    "ssp = 'SSP3'\n",
    "mortality_file = 'fn_full'\n",
    "\n",
    "# Get file path\n",
    "file_path = get_file_path(dat_dir, rcp, iam, ssp, mortality_file)\n",
    "print(f\"File Path: {file_path}\")\n",
    "\n",
    "# Load dataset\n",
    "ds = xr.open_dataset(file_path)\n",
    "ds_fixed = fix_region(ds)\n",
    "print(ds_fixed)\n",
    "\n",
    "# Get historical climate file path\n",
    "histclim_file = 'fn_histclim'\n",
    "histclim_file_path = get_histclim_file_path(histclim_dat_dir, rcp, iam, ssp, histclim_file)\n",
    "ds_histclim = xr.open_dataset(histclim_file_path)\n",
    "ds_histclim_fixed = fix_region_histclim(ds_histclim)\n",
    "print(ds_histclim_fixed)\n",
    "\n",
    "# Example threshold function call\n",
    "quant = 0.95\n",
    "yr = 2005\n",
    "threshold = threshold_fun(quant, yr)\n",
    "print(f\"Threshold: {threshold}\")\n",
    "\n",
    "# Example historical climate threshold function call\n",
    "histclim_threshold = histclim_threshold_fun(quant, yr)\n",
    "print(f\"Historical Climate Threshold: {histclim_threshold}\")"
   ]
  }
 ],
 "metadata": {
  "kernelspec": {
   "display_name": "myenv1",
   "language": "python",
   "name": "myenv1"
  },
  "language_info": {
   "codemirror_mode": {
    "name": "ipython",
    "version": 3
   },
   "file_extension": ".py",
   "mimetype": "text/x-python",
   "name": "python",
   "nbconvert_exporter": "python",
   "pygments_lexer": "ipython3",
   "version": "3.9.18"
  }
 },
 "nbformat": 4,
 "nbformat_minor": 5
}
