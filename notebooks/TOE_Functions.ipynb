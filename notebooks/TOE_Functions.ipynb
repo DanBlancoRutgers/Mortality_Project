{
 "cells": [
  {
   "cell_type": "code",
   "execution_count": 2,
   "id": "d17faf77-4415-4071-b88b-c4bd984efe5d",
   "metadata": {},
   "outputs": [
    {
     "name": "stdout",
     "output_type": "stream",
     "text": [
      "Collecting ipynb\n",
      "  Downloading ipynb-0.5.1-py3-none-any.whl.metadata (303 bytes)\n",
      "Downloading ipynb-0.5.1-py3-none-any.whl (6.9 kB)\n",
      "Installing collected packages: ipynb\n",
      "Successfully installed ipynb-0.5.1\n",
      "Note: you may need to restart the kernel to use updated packages.\n"
     ]
    }
   ],
   "source": [
    "pip install ipynb"
   ]
  },
  {
   "cell_type": "code",
   "execution_count": 4,
   "id": "d3fea8b9-f7e7-43fe-8c5e-9a3e471b97bf",
   "metadata": {},
   "outputs": [],
   "source": [
    "import ipynb.fs.defs.ToE_Project_Final\n",
    "import os\n",
    "import xarray as xr"
   ]
  },
  {
   "cell_type": "code",
   "execution_count": 5,
   "id": "e47eaaf6-d609-4e4e-8093-4a6060d8acba",
   "metadata": {},
   "outputs": [],
   "source": [
    "# Define data directory\n",
    "dat_dir = '/projects/kopp/dtb96/branches/Mortality_Project/data/2_projection/3_impacts/main_specification/raw/single'\n",
    "econ_dat_dir = '/projects/kopp/dtb96/branches/Mortality_Project/data/2_projection/2_econ_vars/'\n",
    "histclim_dat_dir = '/projects/kopp/dtb96/branches/Mortality_Project/data/2_projection/3_impacts/main_specification/raw/single'\n",
    "\n",
    "# Define available RCPs and uncertainty ranges\n",
    "rcps = ['45', '85']\n",
    "iams = ['low', 'high']\n",
    "ssp = ['SSP3','SSP4','SSP5']\n",
    "\n",
    "def get_file_path(dat_dir, rcp, iam, ssp, mortality_file):\n",
    "    data_dict = {\n",
    "        'fn_full': 'Agespec_interaction_GMFD_POLY-4_TINV_CYA_NW_w1-oldest.nc4',\n",
    "        'fn_inc': 'Agespec_interaction_GMFD_POLY-4_TINV_CYA_NW_w1-oldest-incadapt.nc4',\n",
    "        'fn_none': 'Agespec_interaction_GMFD_POLY-4_TINV_CYA_NW_w1-oldest-noadapt.nc4',\n",
    "    }\n",
    "    \n",
    "    file_name = data_dict.get(mortality_file, '')\n",
    "    if not file_name:\n",
    "        raise ValueError(\"Invalid file name provided.\")\n",
    "\n",
    "    path = os.path.join(dat_dir, rcp, 'CCSM4', iam, ssp, file_name)\n",
    "    return path\n",
    "\n",
    "def get_histclim_file_path(histclim_dat_dir, rcp, iam, ssp, histclim_file):\n",
    "    histclim_data_dict = {\n",
    "        'fn_histclim': 'Agespec_interaction_GMFD_POLY-4_TINV_CYA_NW_w1-oldest-histclim.nc4'\n",
    "    }\n",
    "    \n",
    "    histclim_file_name = histclim_data_dict.get(histclim_file, '')\n",
    "    if not histclim_file_name:\n",
    "        raise ValueError(\"Invalid file name provided.\")\n",
    "\n",
    "    histclim_path = os.path.join(histclim_dat_dir, rcp, 'CCSM4', iam, ssp, histclim_file_name)\n",
    "    return histclim_path\n",
    "\n",
    "def get_econ_file_path(econ_dat_dir, econ_file):\n",
    "    data_dict = {\n",
    "        'SSP1': 'SSP1.nc4',\n",
    "        'SSP2': 'SSP2.nc4',\n",
    "        'SSP3': 'SSP3.nc4',\n",
    "        'SSP4': 'SSP4.nc4',\n",
    "        'SSP5': 'SSP5.nc4'\n",
    "    }\n",
    "    \n",
    "    econ_file_name = data_dict.get(econ_file, '')\n",
    "    if not econ_file_name:\n",
    "        raise ValueError(\"Invalid file name provided.\")\n",
    "\n",
    "    econ_path = os.path.join(econ_dat_dir, econ_file_name)\n",
    "    return econ_path\n",
    "\n",
    "def fix_region(ds):\n",
    "    return ds.set_coords(\"regions\").swap_dims({\"region\": \"regions\"}).rename({\"regions\": \"region\"})\n",
    "\n",
    "def fix_region_histclim(ds_histclim):\n",
    "    return ds_histclim.set_coords(\"regions\").swap_dims({\"region\": \"regions\"}).rename({\"regions\": \"region\"})\n",
    "\n",
    "def threshold_fun(quant, yr):\n",
    "    threshold = rolling_quantiles.sel(quantile=quant, year=yr)\n",
    "    return threshold\n",
    "\n",
    "def histclim_threshold_fun(quant, yr):\n",
    "    histclim_threshold = histclim_rolling_quantiles.sel(quantile=quant, year=yr)\n",
    "    return histclim_threshold"
   ]
  },
  {
   "cell_type": "code",
   "execution_count": null,
   "id": "9c8bac5c-64d6-4776-902b-41796bc6f695",
   "metadata": {},
   "outputs": [],
   "source": []
  }
 ],
 "metadata": {
  "kernelspec": {
   "display_name": "myenv1",
   "language": "python",
   "name": "myenv1"
  },
  "language_info": {
   "codemirror_mode": {
    "name": "ipython",
    "version": 3
   },
   "file_extension": ".py",
   "mimetype": "text/x-python",
   "name": "python",
   "nbconvert_exporter": "python",
   "pygments_lexer": "ipython3",
   "version": "3.9.18"
  }
 },
 "nbformat": 4,
 "nbformat_minor": 5
}
